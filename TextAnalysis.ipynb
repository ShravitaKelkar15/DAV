{
 "cells": [
  {
   "cell_type": "code",
   "execution_count": null,
   "id": "4b5aece2-6bb9-4cc1-b131-9fdcb1ca98de",
   "metadata": {},
   "outputs": [
    {
     "name": "stderr",
     "output_type": "stream",
     "text": [
      "[nltk_data] Downloading package stopwords to C:\\Users\\Janhavi\n",
      "[nltk_data]     Bandbe\\AppData\\Roaming\\nltk_data...\n"
     ]
    },
    {
     "name": "stdout",
     "output_type": "stream",
     "text": [
      "{'an', 'needn', 'the', \"mustn't\", 'himself', 'now', 'him', 'herself', \"he'll\", 'yourselves', \"it'll\", 't', 'my', \"you'd\", 'which', 's', \"mightn't\", 'didn', \"it'd\", 'weren', 'then', 'a', 'aren', 'mustn', \"couldn't\", 'doesn', 'while', 'am', 'into', 'does', 'these', 'ours', 'isn', 'where', 'above', 'were', \"aren't\", 'have', \"i'm\", \"they'll\", \"he's\", 'that', 'same', \"they're\", 'she', 'on', \"won't\", 'yourself', 'for', 'below', \"should've\", \"hadn't\", 'whom', 'won', 'during', 'm', 'under', 'your', \"wouldn't\", 'at', 'can', 'did', \"haven't\", \"you'll\", 'all', 'most', 'there', 'having', \"he'd\", 'you', 'be', 'if', 'why', 'off', 'ain', \"she'll\", 'hasn', \"wasn't\", 'been', 'very', 'by', 'hers', 'how', 'each', \"we're\", 'was', 'we', 'but', 'doing', 'those', 'our', 'do', 'down', 're', \"don't\", 'again', \"it's\", \"shan't\", 'them', 'll', 'wasn', 'than', 'after', 'in', 'few', 'not', 'so', 'before', \"i'd\", 'some', 'out', 'y', 'further', 'her', 'is', 'about', 'shan', 'when', \"needn't\", 'only', 'itself', 'o', 'don', \"we'd\", 'should', 'are', 'it', \"you've\", 'too', 'or', 'its', 'his', 'more', 'ma', 'who', 'this', \"they've\", 'being', \"she'd\", 'once', 'over', 'their', 'what', 'will', 'with', \"she's\", 'd', 'such', 'themselves', 'until', 'hadn', 'other', 'to', 'between', 'yours', \"weren't\", 'they', 'couldn', \"i've\", 'and', 'own', 'had', 'just', \"hasn't\", \"shouldn't\", 'of', 'from', 'ourselves', \"that'll\", 'theirs', 'against', 'because', \"doesn't\", 'here', 've', 'nor', 'as', 'me', \"isn't\", 'no', 'shouldn', 'wouldn', \"didn't\", 'any', 'has', \"we've\", 'both', 'he', \"you're\", 'through', 'myself', 'haven', \"i'll\", 'i', 'mightn', \"we'll\", \"they'd\", 'up'}\n",
      "hello,\n",
      "ratnagiri,\n",
      "?\n"
     ]
    },
    {
     "name": "stderr",
     "output_type": "stream",
     "text": [
      "[nltk_data]   Unzipping corpora\\stopwords.zip.\n",
      "[nltk_data] Downloading package punkt to C:\\Users\\Janhavi\n",
      "[nltk_data]     Bandbe\\AppData\\Roaming\\nltk_data...\n",
      "[nltk_data]   Package punkt is already up-to-date!\n"
     ]
    }
   ],
   "source": [
    "#stopword removal\n",
    "from nltk.corpus import stopwords\n",
    "import nltk\n",
    "\n",
    "nltk.download('stopwords')\n",
    "nltk.download('punkt')\n",
    "\n",
    "s_word = set(stopwords.words('english'))\n",
    "print(s_word)\n",
    "\n",
    "text = \"Hello, I am in Ratnagiri, where are you ?\"\n",
    "text = text.lower()\n",
    "words = text.split()\n",
    "for word in words:\n",
    "    if(word not in s_word):\n",
    "        print(word)\n"
   ]
  },
  {
   "cell_type": "code",
   "execution_count": 4,
   "id": "5554e6c5",
   "metadata": {},
   "outputs": [
    {
     "name": "stderr",
     "output_type": "stream",
     "text": [
      "[nltk_data] Downloading package wordnet to C:\\Users\\Janhavi\n",
      "[nltk_data]     Bandbe\\AppData\\Roaming\\nltk_data...\n"
     ]
    },
    {
     "name": "stdout",
     "output_type": "stream",
     "text": [
      "be\n",
      "run\n",
      "play\n",
      "effectively\n",
      "best\n"
     ]
    }
   ],
   "source": [
    "#lemmatization\n",
    "import nltk\n",
    "from nltk.stem import WordNetLemmatizer\n",
    "nltk.download('wordnet')\n",
    "\n",
    "lem = WordNetLemmatizer()\n",
    "print(lem.lemmatize(\"are\", pos='v'))\n",
    "print(lem.lemmatize(\"running\", pos='v'))\n",
    "print(lem.lemmatize(\"playing\", pos='v'))\n",
    "print(lem.lemmatize(\"effectively\", pos='r'))\n",
    "print(lem.lemmatize(\"best\", pos='a'))   \n"
   ]
  },
  {
   "cell_type": "code",
   "execution_count": 10,
   "id": "752275ab",
   "metadata": {},
   "outputs": [
    {
     "name": "stdout",
     "output_type": "stream",
     "text": [
      "run\n",
      "play\n",
      "effect\n",
      "happili\n",
      "is\n",
      "am\n",
      "best\n"
     ]
    }
   ],
   "source": [
    "#Stemmer\n",
    "from nltk.stem import PorterStemmer\n",
    "ps=PorterStemmer()\n",
    "text = \"Running playing effectively happily is am best\"\n",
    "words = text.split()\n",
    "for word in words:\n",
    "    print(ps.stem(word))\n"
   ]
  },
  {
   "cell_type": "code",
   "execution_count": 12,
   "id": "a197c328",
   "metadata": {},
   "outputs": [
    {
     "name": "stdout",
     "output_type": "stream",
     "text": [
      "Hello, I am in Ratnagiri, where are you ?\n",
      "Hello I am in Ratnagiri where are you \n"
     ]
    }
   ],
   "source": [
    "#Remove punctuations\n",
    "import string\n",
    "text = \"Hello, I am in Ratnagiri, where are you ?\"\n",
    "print(text)\n",
    "text = text.translate(str.maketrans(\"\", \"\", string.punctuation))\n",
    "print(text)\n"
   ]
  },
  {
   "cell_type": "code",
   "execution_count": 13,
   "id": "8fe72c98",
   "metadata": {},
   "outputs": [
    {
     "name": "stdout",
     "output_type": "stream",
     "text": [
      "['another' 'bag' 'example' 'hello' 'is' 'model' 'of' 'processing' 'sample'\n",
      " 'simple' 'text' 'this' 'words' 'world'] [[0 0 0 1 1 0 0 0 1 0 1 1 0 1]\n",
      " [0 1 0 0 1 1 1 0 0 1 0 0 1 0]\n",
      " [1 0 1 0 1 0 1 1 0 0 1 1 0 0]]\n"
     ]
    }
   ],
   "source": [
    "#Bag of words\n",
    "from sklearn.feature_extraction.text import CountVectorizer\n",
    "text = [\n",
    "    \"Hello world! This is a sample text.\",\n",
    "    \"Bag of words model is simple.\",\n",
    "    \"This is another example of text processing.\"\n",
    "]\n",
    "vectorize = CountVectorizer()\n",
    "x = vectorize.fit_transform(text)\n",
    "print(vectorize.get_feature_names_out(), x.toarray())"
   ]
  },
  {
   "cell_type": "code",
   "execution_count": 14,
   "id": "9764342e",
   "metadata": {},
   "outputs": [
    {
     "name": "stdout",
     "output_type": "stream",
     "text": [
      "['another' 'bag' 'example' 'hello' 'is' 'model' 'of' 'processing' 'sample'\n",
      " 'simple' 'text' 'this' 'words' 'world'] [[0.         0.         0.         0.4711101  0.27824521 0.\n",
      "  0.         0.         0.4711101  0.         0.35829137 0.35829137\n",
      "  0.         0.4711101 ]\n",
      " [0.         0.45050407 0.         0.         0.26607496 0.45050407\n",
      "  0.34261996 0.         0.         0.45050407 0.         0.\n",
      "  0.45050407 0.        ]\n",
      " [0.44350256 0.         0.44350256 0.         0.26193976 0.\n",
      "  0.33729513 0.44350256 0.         0.         0.33729513 0.33729513\n",
      "  0.         0.        ]]\n"
     ]
    }
   ],
   "source": [
    "#TFIDF\n",
    "from sklearn.feature_extraction.text import TfidfVectorizer\n",
    "\n",
    "text = [\n",
    "    \"Hello world! This is a sample text.\",\n",
    "    \"Bag of words model is simple.\",\n",
    "    \"This is another example of text processing.\"\n",
    "]\n",
    "vectorize = TfidfVectorizer()\n",
    "x = vectorize.fit_transform(text)\n",
    "print(vectorize.get_feature_names_out(), x.toarray())"
   ]
  }
 ],
 "metadata": {
  "kernelspec": {
   "display_name": "Python 3",
   "language": "python",
   "name": "python3"
  },
  "language_info": {
   "codemirror_mode": {
    "name": "ipython",
    "version": 3
   },
   "file_extension": ".py",
   "mimetype": "text/x-python",
   "name": "python",
   "nbconvert_exporter": "python",
   "pygments_lexer": "ipython3",
   "version": "3.12.5"
  }
 },
 "nbformat": 4,
 "nbformat_minor": 5
}
